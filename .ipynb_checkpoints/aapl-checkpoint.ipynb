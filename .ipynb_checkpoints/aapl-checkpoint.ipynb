{
 "cells": [
  {
   "cell_type": "code",
   "execution_count": 29,
   "metadata": {},
   "outputs": [],
   "source": [
    "import yfinance as yf\n",
    "import pandas as pd\n",
    "from sqlalchemy import create_engine\n",
    "\n",
    "ticker = yf.Ticker('aapl')\n",
    "\n",
    "analysts = ticker.recommendations\n",
    "history = ticker.history(period=\"Max\")"
   ]
  },
  {
   "cell_type": "code",
   "execution_count": 22,
   "metadata": {},
   "outputs": [
    {
     "name": "stdout",
     "output_type": "stream",
     "text": [
      "           symbol               firm    to_grade from_grade action\n",
      "Date                                                              \n",
      "2012-02-09   aapl  Canaccord Genuity         Buy              main\n",
      "2012-03-08   aapl     FBN Securities  Outperform              main\n",
      "2012-03-13   aapl          Jefferies         Buy              main\n",
      "2012-03-14   aapl  Canaccord Genuity         Buy              main\n",
      "2012-03-14   aapl         Oxen Group         Buy              init\n",
      "...           ...                ...         ...        ...    ...\n",
      "2020-03-23   aapl    Nomura Instinet     Neutral              main\n",
      "2020-03-25   aapl      Deutsche Bank         Buy       Hold     up\n",
      "2020-03-30   aapl                UBS         Buy              main\n",
      "2020-04-03   aapl      Credit Suisse     Neutral              main\n",
      "2020-04-03   aapl     Morgan Stanley  Overweight              main\n",
      "\n",
      "[711 rows x 5 columns]\n",
      "<class 'pandas.core.frame.DataFrame'>\n",
      "DatetimeIndex: 711 entries, 2012-02-09 to 2020-04-03\n",
      "Data columns (total 5 columns):\n",
      " #   Column      Non-Null Count  Dtype \n",
      "---  ------      --------------  ----- \n",
      " 0   symbol      711 non-null    object\n",
      " 1   firm        711 non-null    object\n",
      " 2   to_grade    711 non-null    object\n",
      " 3   from_grade  711 non-null    object\n",
      " 4   action      711 non-null    object\n",
      "dtypes: object(5)\n",
      "memory usage: 33.3+ KB\n",
      "None\n"
     ]
    }
   ],
   "source": [
    "analysts.columns = [\"firm\", \"to_grade\", \"from_grade\", \"action\"]\n",
    "analysts.insert(0, \"symbol\", \"aapl\")\n",
    "print(analysts)\n",
    "print(analysts.info())"
   ]
  },
  {
   "cell_type": "code",
   "execution_count": 30,
   "metadata": {},
   "outputs": [
    {
     "name": "stdout",
     "output_type": "stream",
     "text": [
      "           symbol   open   high    low   close    volume  dividends  \\\n",
      "Date                                                                  \n",
      "2020-04-07   aapl  270.8  271.7  259.0  259.43  50721831          0   \n",
      "\n",
      "            stock_splits  \n",
      "Date                      \n",
      "2020-04-07             0  \n",
      "<class 'pandas.core.frame.DataFrame'>\n",
      "DatetimeIndex: 1 entries, 2020-04-07 to 2020-04-07\n",
      "Data columns (total 8 columns):\n",
      " #   Column        Non-Null Count  Dtype  \n",
      "---  ------        --------------  -----  \n",
      " 0   symbol        1 non-null      object \n",
      " 1   open          1 non-null      float64\n",
      " 2   high          1 non-null      float64\n",
      " 3   low           1 non-null      float64\n",
      " 4   close         1 non-null      float64\n",
      " 5   volume        1 non-null      int64  \n",
      " 6   dividends     1 non-null      int64  \n",
      " 7   stock_splits  1 non-null      int64  \n",
      "dtypes: float64(4), int64(3), object(1)\n",
      "memory usage: 72.0+ bytes\n",
      "None\n"
     ]
    }
   ],
   "source": [
    "history.columns = [\"open\", \"high\", \"low\", \"close\", \"volume\", \"dividends\", \"stock_splits\"]\n",
    "history.insert(0, \"symbol\", \"aapl\")\n",
    "print(history)\n",
    "print(history.info())"
   ]
  },
  {
   "cell_type": "code",
   "execution_count": 24,
   "metadata": {},
   "outputs": [],
   "source": []
  },
  {
   "cell_type": "code",
   "execution_count": 28,
   "metadata": {},
   "outputs": [],
   "source": [
    "history.to_sql('stocks', con=engine, if_exists='append', index = True, schema='machine_learning', index_label=\"date\")"
   ]
  }
 ],
 "metadata": {
  "kernelspec": {
   "display_name": "Python 3",
   "language": "python",
   "name": "python3"
  },
  "language_info": {
   "codemirror_mode": {
    "name": "ipython",
    "version": 3
   },
   "file_extension": ".py",
   "mimetype": "text/x-python",
   "name": "python",
   "nbconvert_exporter": "python",
   "pygments_lexer": "ipython3",
   "version": "3.7.6"
  }
 },
 "nbformat": 4,
 "nbformat_minor": 4
}
