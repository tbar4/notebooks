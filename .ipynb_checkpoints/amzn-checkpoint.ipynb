{
 "cells": [
  {
   "cell_type": "code",
   "execution_count": null,
   "metadata": {},
   "outputs": [],
   "source": [
    "import getpass\n",
    "\n",
    "user = getpass.getuser()\n",
    "password = getpass.getpass(\"Password: \")\n",
    "host = input(\"Host: \")\n",
    "database = input(\"Database: \")"
   ]
  },
  {
   "cell_type": "code",
   "execution_count": 14,
   "metadata": {},
   "outputs": [
    {
     "name": "stdout",
     "output_type": "stream",
     "text": [
      "Run was a Success!\n"
     ]
    }
   ],
   "source": [
    "import yfinance as yf\n",
    "import pandas as pd\n",
    "from sqlalchemy import create_engine\n",
    "import psycopg2\n",
    "\n",
    "connection = psycopg2.connect(user = user,\n",
    "        password = password,\n",
    "        host = host,\n",
    "        port = 5432,\n",
    "        database = database)\n",
    "cur = connection.cursor()\n",
    "\n",
    "symbol = \"aal\"\n",
    "\n",
    "ticker = yf.Ticker(symbol)\n",
    "\n",
    "history = ticker.history(period=\"Max\")\n",
    "\n",
    "history.columns = [\"open\", \"high\", \"low\", \"close\", \"volume\", \"dividends\", \"stock_splits\"]\n",
    "history.insert(0, \"symbol\", symbol)\n",
    "\n",
    "string_engine = engine = \"postgresql://\" + user + \":\" + password + \"@\" + host + \":5432/\" + database\n",
    "engine = create_engine(string_engine)\n",
    "\n",
    "history.to_sql('stocks', con=engine, if_exists='append', index = True, schema='machine_learning', index_label=\"date\")\n",
    "\n",
    "delete_dupes = cur.execute(\"DELETE FROM machine_learning.stocks a USING(SELECT MIN(ctid) as ctid, date, symbol from machine_learning.stocks GROUP BY date, symbol HAVING COUNT(*) > 1) b WHERE a.date = b.date AND a.ctid <> b.ctid AND a.symbol = b.symbol\")\n",
    "connection.commit()\n",
    "connection.close()\n",
    "print(\"Run was a Success!\")                     "
   ]
  },
  {
   "cell_type": "code",
   "execution_count": null,
   "metadata": {},
   "outputs": [],
   "source": []
  }
 ],
 "metadata": {
  "kernelspec": {
   "display_name": "Python 3",
   "language": "python",
   "name": "python3"
  },
  "language_info": {
   "codemirror_mode": {
    "name": "ipython",
    "version": 3
   },
   "file_extension": ".py",
   "mimetype": "text/x-python",
   "name": "python",
   "nbconvert_exporter": "python",
   "pygments_lexer": "ipython3",
   "version": "3.7.6"
  }
 },
 "nbformat": 4,
 "nbformat_minor": 4
}
