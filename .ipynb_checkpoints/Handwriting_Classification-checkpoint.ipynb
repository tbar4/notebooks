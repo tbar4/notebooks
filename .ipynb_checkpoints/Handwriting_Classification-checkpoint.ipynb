{
 "cells": [
  {
   "cell_type": "markdown",
   "metadata": {},
   "source": [
    "### Classification\n",
    "\n",
    "In this article we will be analyzing handwritten numbers in order to predict future pictures of handwritten digits. We will be using a dataset that is internal to the `sklearn` package. This example of Machine Learning is usually referred to as the *\"Hello, World!\"* of Machine Learning. \n",
    "\n",
    "In the last article we worked on a supervised learning model that used *regression* to **predicted values** and in this example we will be using *classification* to **predict classes**. We will be using what is called the MNIST dataset. The MNIST dataset contains 70,000 small handwritten digits from high schoolers in the U.S.A. When Data Scientists build new classification models, a lot will test it against this dataset. There are a couple keys that might be worth explaining in the dataset before we load it.\n",
    "\n",
    "*DESCR* - is a key describing the dataset\n",
    "*data* - a key containing an array with one row per instance and one column per feature\n",
    "*target* - a key containing an array with labels\n",
    "\n",
    "Let's go ahead and load our data!"
   ]
  },
  {
   "cell_type": "code",
   "execution_count": 4,
   "metadata": {},
   "outputs": [],
   "source": [
    "from sklearn.datasets import fetch_openml\n",
    "import numpy as np\n",
    "\n",
    "mnist = fetch_openml('mnist_784', version=1)"
   ]
  },
  {
   "cell_type": "markdown",
   "metadata": {},
   "source": [
    "### Viewing our data types\n",
    "\n",
    "One important thing to remember is that our Machine Learning Models work best with numeric values and not so well with objects. Let us make sure that we are only dealing with numeric objects. We can see based on the next output that our target values are strings (objects), so we should go ahead and fix that after we load in our data."
   ]
  },
  {
   "cell_type": "code",
   "execution_count": 5,
   "metadata": {},
   "outputs": [
    {
     "name": "stdout",
     "output_type": "stream",
     "text": [
      "Data's data type: float64\n",
      "Target's data type: object\n"
     ]
    }
   ],
   "source": [
    "print(\"Data's data type:\", mnist[\"data\"].dtype)\n",
    "print(\"Target's data type:\", mnist[\"target\"].dtype)"
   ]
  },
  {
   "cell_type": "code",
   "execution_count": 6,
   "metadata": {},
   "outputs": [
    {
     "name": "stdout",
     "output_type": "stream",
     "text": [
      "Keys:  dict_keys(['data', 'target', 'frame', 'feature_names', 'target_names', 'DESCR', 'details', 'categories', 'url'])\n",
      "X Shape (aka our features):  (70000, 784)\n",
      "y Shape (aka our targets):  (70000,)\n"
     ]
    }
   ],
   "source": [
    "print(\"Keys: \", mnist.keys())\n",
    "\n",
    "## Separate oout our features from our labels\n",
    "X, y = mnist[\"data\"], mnist[\"target\"]\n",
    "\n",
    "## Remember that our target values are in string as of now, let us change it to integer so that our model works better\n",
    "y = y.astype(np.uint8)\n",
    "print(\"X Shape (aka our features): \", X.shape)\n",
    "print(\"y Shape (aka our targets): \", y.shape)"
   ]
  },
  {
   "cell_type": "markdown",
   "metadata": {},
   "source": [
    "### A quick overview of arrays\n",
    "\n",
    "> A numpy array is a grid of values, all of the same type, and is indexed by a tuple of nonnegative integers. The number of dimensions is the rank of the array; the shape of an array is a tuple of integers giving the size of the array along each dimension.\n",
    "\n",
    "Understanding arrays will be very valuable for understanding how we will reshape the dataset to generate an image to test our classification model."
   ]
  },
  {
   "cell_type": "code",
   "execution_count": 31,
   "metadata": {},
   "outputs": [
    {
     "name": "stdout",
     "output_type": "stream",
     "text": [
      "Square Root of 784 (i.e. the length of the array of our data):  28.0\n",
      "Label (Digit Value):  0\n",
      "Label (Digit Value):  4\n",
      "Label (Digit Value):  1\n"
     ]
    },
    {
     "data": {
      "image/png": "[encoded data removed]",
      "text/plain": [
       "<Figure size 432x288 with 1 Axes>"
      ]
     },
     "metadata": {},
     "output_type": "display_data"
    },
    {
     "data": {
      "image/png": "[encoded data removed]",
      "text/plain": [
       "<Figure size 432x288 with 1 Axes>"
      ]
     },
     "metadata": {},
     "output_type": "display_data"
    },
    {
     "data": {
      "image/png": "[encoded data removed]",
      "text/plain": [
       "<Figure size 432x288 with 1 Axes>"
      ]
     },
     "metadata": {},
     "output_type": "display_data"
    }
   ],
   "source": [
    "import matplotlib.pyplot as plt\n",
    "import numpy as np\n",
    "\n",
    "print(\"Square Root of 784 (i.e. the length of the array of our data): \", np.sqrt(784))\n",
    "\n",
    "## A function that quickly allows you to test a value in the dataset\n",
    "def digit_with_label(num=0, X=X, y=y):\n",
    "    ## Get the square root of the array\n",
    "    sqrt_value = int(np.sqrt(X.shape[1]))\n",
    "    \n",
    "    ## The location in the array you want to see the value of the digit\n",
    "    if type(num) == int:\n",
    "        X_value = X[num]\n",
    "        y_value = y[num]\n",
    "        reshape_value = X_value.reshape(sqrt_value, sqrt_value)\n",
    "        plt.imshow(reshape_value, cmap=\"binary\")\n",
    "        plt.axis(\"off\")\n",
    "        \n",
    "    elif type(num) == list:    \n",
    "        for n in num:\n",
    "            X_value = X[n]\n",
    "            ## The location in the array of the actual value of the digit\n",
    "            y_value = y[n]\n",
    "            ## Change the flat array in to a square by getting the square root of the array (e.g. if the length of the array were 64, it would create a 6x6 square)    \n",
    "            reshape_value = X_value.reshape(sqrt_value, sqrt_value)\n",
    "            ## Print the value of the digit\n",
    "            print(\"Label (Digit Value): \", y_value)\n",
    "            ## plot the reshaped array\n",
    "            plt.figure()\n",
    "            plt.imshow(reshape_value, cmap=\"binary\")\n",
    "            plt.axis(\"off\")\n",
    "    else:\n",
    "        print(\"Please enter a single integer or a list of integers\")\n",
    "    \n",
    "digit_with_label(num=[1,2,3])"
   ]
  },
  {
   "cell_type": "markdown",
   "metadata": {},
   "source": [
    "### Training and Test Sets\n",
    "\n",
    "If you aren't familiar with the concept of test and training sets, please view my previous post [here](https://datadazed.com/2020/02/05/machine-learning-housing-example-project/#Building_the_Training_and_Testing_Sets_for_the_model) to get a better understanding. The MNIST has already split the data into test and training sets for us, so we won't have to worry about importing `sklearn` libraries to do the 'dirty work' for us."
   ]
  },
  {
   "cell_type": "code",
   "execution_count": 12,
   "metadata": {},
   "outputs": [
    {
     "data": {
      "image/png": "[encoded data removed]",
      "text/plain": [
       "<Figure size 432x288 with 1 Axes>"
      ]
     },
     "metadata": {},
     "output_type": "display_data"
    }
   ],
   "source": [
    "X_train, X_test, y_train, y_test = X[:60000], X[60000:], y[:60000], y[60000:]\n",
    "\n",
    "## Let us verif the data is accurate still and didn't get shuffled or jumbled by using the function we created earlier\n",
    "digit_with_label(num=10, X=X_train, y=y_train)"
   ]
  },
  {
   "cell_type": "markdown",
   "metadata": {},
   "source": [
    "### Binary Classifiers \n",
    "\n",
    "It might be a good time to discuss the types of classifiers, since we are going to build a classification model. One such model is called a binary classifier, which is useful if you need to return a boolean field (e.g. True or False). We could use this type of model on our dataset, but it would only return whether or not a digit is a single digit, e.g. 5 or not 5. As you could already imagine, this might be extremely inefficient if we are training our 10 digits (1 to 10). It will require us to run the learning algorithm 10x's (1 or not 1, 2 or not 2, 3 or not 3, etc...). For example's sake, we can train a binary classifier as an example."
   ]
  },
  {
   "cell_type": "code",
   "execution_count": 28,
   "metadata": {},
   "outputs": [
    {
     "data": {
      "text/plain": [
       "SGDClassifier(alpha=0.0001, average=False, class_weight=None,\n",
       "              early_stopping=False, epsilon=0.1, eta0=0.0, fit_intercept=True,\n",
       "              l1_ratio=0.15, learning_rate='optimal', loss='hinge',\n",
       "              max_iter=1000, n_iter_no_change=5, n_jobs=None, penalty='l2',\n",
       "              power_t=0.5, random_state=42, shuffle=True, tol=0.001,\n",
       "              validation_fraction=0.1, verbose=0, warm_start=False)"
      ]
     },
     "execution_count": 28,
     "metadata": {},
     "output_type": "execute_result"
    }
   ],
   "source": [
    "from sklearn.linear_model import SGDClassifier\n",
    "\n",
    "y_train_5 = (y_train == 5)\n",
    "y_test_5 = (y_test == 5)\n",
    "\n",
    "sgd_clf = SGDClassifier(random_state=42)\n",
    "sgd_clf.fit(X_train, y_train_5)"
   ]
  },
  {
   "cell_type": "code",
   "execution_count": 30,
   "metadata": {},
   "outputs": [
    {
     "data": {
      "text/plain": [
       "array([ True])"
      ]
     },
     "execution_count": 30,
     "metadata": {},
     "output_type": "execute_result"
    },
    {
     "data": {
      "image/png": "[encoded data removed]",
      "text/plain": [
       "<Figure size 432x288 with 1 Axes>"
      ]
     },
     "metadata": {},
     "output_type": "display_data"
    }
   ],
   "source": [
    "## Let's see if the first digit given in the X (our features) is equal to 5\n",
    "digit_with_label(0)\n",
    "\n",
    "## Based on the graph, it looks like the digit at[0] is in fact 5, but will our model predict that it is 5, too? \n",
    "## If the array returns `true` than it predicts that it is a five, otherwise it returns `false`\n",
    "sgd_clf.predict([X[0]])"
   ]
  },
  {
   "cell_type": "markdown",
   "metadata": {},
   "source": [
    "### Performance Measures\n",
    "\n",
    "It is much more difficult to evaluate a classifier (our model predicting class) than it is to evaluate the performance of a model that is training a regressor (predicting a value). We discussed a little in the last post about using cross validation. Let us test out a cross validation score."
   ]
  },
  {
   "cell_type": "code",
   "execution_count": 32,
   "metadata": {},
   "outputs": [
    {
     "data": {
      "text/plain": [
       "array([0.95035, 0.96035, 0.9604 ])"
      ]
     },
     "execution_count": 32,
     "metadata": {},
     "output_type": "execute_result"
    }
   ],
   "source": [
    "from sklearn.model_selection import cross_val_score\n",
    "\n",
    "cross_val_score(sgd_clf, X_train, y_train_5, cv = 3, scoring=\"accuracy\")"
   ]
  },
  {
   "cell_type": "markdown",
   "metadata": {},
   "source": [
    "#### Dumb Classifier\n",
    "\n",
    "Based on the output above our model predicts the correct value over 95% of the time! That is a fantastic value, but is it really that good of a model? We can use a dumb classifier to determine how well the model performs if it just assumes every value is not 5. We can do this by importing sklearn's `BaseEstimator` method and building a class that returns all False."
   ]
  },
  {
   "cell_type": "code",
   "execution_count": 33,
   "metadata": {},
   "outputs": [
    {
     "data": {
      "text/plain": [
       "array([0.91125, 0.90855, 0.90915])"
      ]
     },
     "execution_count": 33,
     "metadata": {},
     "output_type": "execute_result"
    }
   ],
   "source": [
    "from sklearn.base import BaseEstimator\n",
    "\n",
    "class Never5Classifier(BaseEstimator):\n",
    "    def fit(self, X, y=None):\n",
    "        pass\n",
    "    def predict(self, X):\n",
    "        return np.zeros((len(X), 1), dtype=bool)\n",
    "    \n",
    "never_5_clf = Never5Classifier()\n",
    "cross_val_score(never_5_clf, X_train, y_train_5, cv=3, scoring=\"accuracy\")"
   ]
  },
  {
   "cell_type": "markdown",
   "metadata": {},
   "source": [
    "#### Confusion Matrix\n",
    "\n",
    "Our model only performs 5% better than just running through all `False` results. One way to better predict performance is by using a *Confusion Matrix*. A confusion matrix determines the amount of times instances of Class A are classified as Class B, e.g. number of times 5 was actually predicted as 3 (you would look at the 5th row and the 3rd column). A confusion matrix is setup so that each *row* represents an *actual* class and each *column* represents a *predicted* class."
   ]
  },
  {
   "cell_type": "code",
   "execution_count": 36,
   "metadata": {},
   "outputs": [
    {
     "data": {
      "text/plain": [
       "array([[53892,   687],\n",
       "       [ 1891,  3530]])"
      ]
     },
     "execution_count": 36,
     "metadata": {},
     "output_type": "execute_result"
    }
   ],
   "source": [
    "from sklearn.model_selection import cross_val_predict\n",
    "from sklearn.metrics import confusion_matrix\n",
    "\n",
    "y_train_predict = cross_val_predict(sgd_clf, X_train, y_train_5, cv=3)\n",
    "\n",
    "## The first row will be non-5 images, where ~53k were correctly predicted as non-5 images and ~1k were incorrectly predicted as non-5 images\n",
    "## The second row will be 5 images, where ~2k are wrongly classified as non-5, and ~3k are predicted correctly as 5 images\n",
    "confusion_matrix(y_train_5, y_train_predict)"
   ]
  },
  {
   "cell_type": "code",
   "execution_count": 37,
   "metadata": {},
   "outputs": [
    {
     "data": {
      "text/plain": [
       "array([[54579,     0],\n",
       "       [    0,  5421]])"
      ]
     },
     "execution_count": 37,
     "metadata": {},
     "output_type": "execute_result"
    }
   ],
   "source": [
    "## A perfect dientifier would only have true positives and true negatives\n",
    "y_train_perfect_predict = y_train_5\n",
    "confusion_matrix(y_train_5, y_train_perfect_predict)"
   ]
  },
  {
   "cell_type": "markdown",
   "metadata": {},
   "source": [
    "#### Precision\n",
    "\n",
    "\\begin{equation}\\label{eq: Precision}\n",
    "precision = \\frac{TP}{TP+FN}\n",
    "\\end{equation}\n",
    "\n",
    "**If we reference the output above**\n",
    "\n",
    "| Negative  | Positive |\n",
    "|:---:|:---:|\n",
    "| True Negative (TN)  | False Positive (FP)  |\n",
    "| False Negative (FN)  |  True Positive (TP) |\n",
    "\n",
    "Precision is the accuracy of positive predictions. You could make a single positive prediction and if you ensure it is correct your precision would be 100% because 1/1 = 100%. "
   ]
  },
  {
   "cell_type": "code",
   "execution_count": null,
   "metadata": {},
   "outputs": [],
   "source": []
  }
 ],
 "metadata": {
  "kernelspec": {
   "display_name": "Python 3",
   "language": "python",
   "name": "python3"
  },
  "language_info": {
   "codemirror_mode": {
    "name": "ipython",
    "version": 3
   },
   "file_extension": ".py",
   "mimetype": "text/x-python",
   "name": "python",
   "nbconvert_exporter": "python",
   "pygments_lexer": "ipython3",
   "version": "3.7.4"
  },
  "latex_envs": {
   "LaTeX_envs_menu_present": true,
   "autoclose": false,
   "autocomplete": true,
   "bibliofile": "biblio.bib",
   "cite_by": "apalike",
   "current_citInitial": 1,
   "eqLabelWithNumbers": true,
   "eqNumInitial": 1,
   "hotkeys": {
    "equation": "Ctrl-E",
    "itemize": "Ctrl-I"
   },
   "labels_anchors": false,
   "latex_user_defs": false,
   "report_style_numbering": false,
   "user_envs_cfg": false
  }
 },
 "nbformat": 4,
 "nbformat_minor": 2
}
