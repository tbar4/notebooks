{
 "cells": [
  {
   "cell_type": "markdown",
   "metadata": {},
   "source": [
    "### Linear Regression\n",
    "\n",
    "A ***linear model*** makes a prediction by simply computing a weighted sum of the input features, plus a constant called the ***bias term*** (also called the ***intercept term***). The equation for a linear model called be written as:\n",
    "\n",
    "\\begin{equation}\n",
    "\\hat{y}=\n",
    "_0+\\theta_1x_1+\\theta_2x_2+...+\\theta_nx_n\n",
    "\\end{equation}\n",
    "\n",
    "* $\\hat{y}$ is the predicted value\n",
    "* $n$ is the number of features\n",
    "* $x_i$ is the $i$th feature value\n",
    "* $\\theta_j$ is the $j$th model parameter (including the bias term $\\theta_0$ and the feature weights $\\theta_1, \\theta_2,..., \\theta_n$)\n",
    "\n",
    "Or it can be written more concisely in the vectorized form:\n",
    "\n",
    "\\begin{equation}\n",
    "\\hat{y}=h_0(x)=\\theta \\cdot x\n",
    "\\end{equation}\n",
    "\n",
    "* $\\theta$ is the model's *parameter vector*, containing the bias term $\\theta_0$ and the feature weights $\\theta_1$ to $\\theta_n$\n",
    "* x is the instance's *feature vector*, containing $x_0$ to $x_n$, with $x_0$ always equal to $1$\n",
    "* $\\theta \\cdot x$ is the dot product of the vectors $\\theta$ and $x$, which is equal to $\\theta_0x_0+\\theta_1x_1+\\theta_2x_2+...+\\theta_nx_n$\n",
    "* $h_0$ is the hypothesis function, using the model parameters $\\theta$\n",
    "\n",
    "In Machine Learning, vectors are represented as ***column vectors***, which are 2D arrays with a single column. If $\\theta$ and $x$ are column vectors, then the prediction $\\hat{y}=\\theta^Tx$, where $\\theta^T$ is the transpose of $\\theta$ (a row vector instead of a column vector) and $\\theta^Tx$ is the matrix multiplication of $\\theta^T$ and $x$. It is the same prediction, but now it is represented as a single cell matrix rather than a scalar value.\n",
    "\n",
    "The best way to measure the model accuracy for a linear regression model is to use the ***Root Mean Square Error***. We need to find a value of $\\theta$ that minimizes the RMSE. The MSE of a Linear Regression hypothesis $h_\\theta$ on a training set $X$ is calculated using:\n",
    "\n",
    "\\begin{equation}\n",
    "MSE(X, h_\\theta)=\\frac{1}{m}\\sum_{i=1}^m\\big(\\theta^Tx^{(i)}-y^{(i)}\\big)^2\n",
    "\\end{equation}\n",
    "\n",
    "A difference is that we write $h_\\theta$ instead of $h$ because the model is parameterized by the vector $\\theta$, but to simplify it will be shown as $MSE(\\theta)$ instead of $MSE(X, h_\\theta)$.\n",
    "\n",
    "### Normal Equation\n",
    "\n",
    "In order to find the value of $\\theta$ that minimizes the cost function, there is a ***closed-form solution***, i.e. a mathematical equation that gives the result directly. This is called the ***normal equation***:\n",
    "\n",
    "\\begin{equation}\n",
    "\\hat{\\theta}=\\big(X^T \\cdot X\\big)^{-1} \\cdot X^T \\cdot y\n",
    "\\end{equation}\n",
    "\n",
    "* $\\hat{\\theta}$ is the value of $\\theta$ that minimizes the cost function\n",
    "* $y$ is the vector of target values containing $y^{(1)}$ to $y^{(m)}$"
   ]
  },
  {
   "cell_type": "code",
   "execution_count": 49,
   "metadata": {},
   "outputs": [
    {
     "data": {
      "image/png": "[encoded data removed]",
      "text/plain": [
       "<Figure size 432x288 with 1 Axes>"
      ]
     },
     "metadata": {},
     "output_type": "display_data"
    }
   ],
   "source": [
    "### We can test the normal function above by creating some linear data\n",
    "\n",
    "import numpy as np\n",
    "import matplotlib.pyplot as plt\n",
    "\n",
    "X = 2 * np.random.rand(100, 1)\n",
    "y = 4 + 3 * X + np.random.rand(100, 1)\n",
    "\n",
    "plt.scatter(X, y, c=\"lightgreen\")\n",
    "plt.show()"
   ]
  },
  {
   "cell_type": "markdown",
   "metadata": {},
   "source": [
    "We can now compute $\\hat{\\theta}$ using the ***Normal Equation***. We can use the `inv()` function from *NumPy's* Linear Algebra module (`np.linalg`) to compute the inverse of a matrix, and the `dot()` method for the matrix multiplication."
   ]
  },
  {
   "cell_type": "code",
   "execution_count": 50,
   "metadata": {},
   "outputs": [
    {
     "name": "stdout",
     "output_type": "stream",
     "text": [
      "Regular X: \n",
      " [[0.01007283]\n",
      " [0.99026667]\n",
      " [1.66275616]\n",
      " [1.58994263]\n",
      " [1.39956948]]\n",
      "X with 1 added to it (do do matrix multiplication): \n",
      " [[1.         0.01007283]\n",
      " [1.         0.99026667]\n",
      " [1.         1.66275616]\n",
      " [1.         1.58994263]\n",
      " [1.         1.39956948]]\n",
      "Theta best: \n",
      " [[4.47949433]\n",
      " [3.04738619]]\n"
     ]
    }
   ],
   "source": [
    "### Add X\\theta = 1 to each instance\n",
    "X_b = np.c_[np.ones((100, 1)), X]\n",
    "print(\"Regular X: \\n\", X[:5])\n",
    "print(\"X with 1 added to it (do do matrix multiplication): \\n\", X_b[:5])\n",
    "### Our Normal Function\n",
    "theta_best = np.linalg.inv(X_b.T.dot(X_b)).dot(X_b.T).dot(y)\n",
    "print(\"Theta best: \\n\", theta_best)"
   ]
  },
  {
   "cell_type": "markdown",
   "metadata": {},
   "source": [
    "Considering our original equation was $y=4+3x_1+Gaussian\\hspace{.25cm}Noise$, our model prediction of $\\hat{y}=4.467 + 3.05x_n$ is pretty close to the actual equation. remember that we will never be able to get it perfect because of the concept of ***irreducible error***.\n",
    "\n",
    "We can now make predictions using $\\hat{\\theta}$:"
   ]
  },
  {
   "cell_type": "code",
   "execution_count": 51,
   "metadata": {},
   "outputs": [
    {
     "name": "stdout",
     "output_type": "stream",
     "text": [
      "Prediction for X_new: \n",
      " [[ 4.47949433]\n",
      " [10.57426671]]\n"
     ]
    }
   ],
   "source": [
    "X_new = np.array([[0], [2]])\n",
    "X_new_b = np.c_[np.ones((2, 1)), X_new]\n",
    "y_predict = X_new_b.dot(theta_best)\n",
    "print(\"Prediction for X_new: \\n\", y_predict)"
   ]
  },
  {
   "cell_type": "code",
   "execution_count": 52,
   "metadata": {},
   "outputs": [
    {
     "data": {
      "image/png": "[encoded data removed]",
      "text/plain": [
       "<Figure size 432x288 with 1 Axes>"
      ]
     },
     "metadata": {},
     "output_type": "display_data"
    }
   ],
   "source": [
    "plt.plot(X_new, y_predict, \"r-\", c=\"red\")\n",
    "plt.plot(X, y, \"b.\", c=\"lightgreen\")\n",
    "plt.show()"
   ]
  },
  {
   "cell_type": "markdown",
   "metadata": {},
   "source": [
    "It is even easier to perform a ***Linear Regression*** in `Scikit-Learn`"
   ]
  },
  {
   "cell_type": "code",
   "execution_count": 53,
   "metadata": {},
   "outputs": [
    {
     "name": "stdout",
     "output_type": "stream",
     "text": [
      "Linear Regression Intercept: \n",
      " [4.47949433] \n",
      " Linear Regression Coefficient: \n",
      " [[3.04738619]]\n"
     ]
    }
   ],
   "source": [
    "from sklearn.linear_model import LinearRegression\n",
    "lin_reg = LinearRegression()\n",
    "lin_reg.fit(X, y)\n",
    "print(\"Linear Regression Intercept: \\n\", lin_reg.intercept_,\"\\n\", \"Linear Regression Coefficient: \\n\", lin_reg.coef_)"
   ]
  },
  {
   "cell_type": "markdown",
   "metadata": {},
   "source": [
    "The LinearRegression class is based on the `scipy.linalg.lstsq()` function (the name stands for “***least squares***”), which you could call directly:"
   ]
  },
  {
   "cell_type": "code",
   "execution_count": 54,
   "metadata": {},
   "outputs": [
    {
     "name": "stdout",
     "output_type": "stream",
     "text": [
      "Theta Best Single Value Decomposition: \n",
      " [[4.47949433]\n",
      " [3.04738619]]\n"
     ]
    }
   ],
   "source": [
    "theta_best_svd, residuals, rank, s = np.linalg.lstsq(X_b, y, rcond=1e-6)\n",
    "print(\"Theta Best Single Value Decomposition: \\n\", theta_best_svd)"
   ]
  },
  {
   "cell_type": "markdown",
   "metadata": {},
   "source": [
    "This function computes $\\hat{\\theta}=X^+y$ where $X^+$ is the *pseudoinverse* of $X$ (specifically the Moore-Pearson inverse). You can use `np.linalg.pinv()` to compute the pseudoinverse directly:"
   ]
  },
  {
   "cell_type": "code",
   "execution_count": 55,
   "metadata": {},
   "outputs": [
    {
     "name": "stdout",
     "output_type": "stream",
     "text": [
      "Pseudoinverse:\n",
      " [[4.47949433]\n",
      " [3.04738619]]\n"
     ]
    }
   ],
   "source": [
    "print(\"Pseudoinverse:\\n\", np.linalg.pinv(X_b).dot(y))"
   ]
  },
  {
   "cell_type": "markdown",
   "metadata": {},
   "source": [
    "The ***pseudoinverse*** itself is computed using a standard matrix factorization technique called ***Singular Value Decompisition (SVD)*** that can decompose the training set matrix $X$ into the matrix multiplication of three matrices $U \\hspace{.5cm} \\Sigma \\hspace{.5cm} V^T$. The pseudoinverse is computed as $X^+=V\\Sigma^+U^T$. To compute the matrix $\\Sigma^+$ the algorithm takes $\\Sigma$ and sets to zero all values smaleer than a tiny threshold value, then it replaces all the non-zero values with their inverse, and finally it transposes the resulting matrix. This approach is more efficient than computing the *Normal Equation*.\n",
    "\n",
    "### Gradient Descent\n",
    "\n",
    "***Gradient Descent*** is a very generic optimization algorithm capable of finding optimal solutions to a wide range of problems. The idea of ***Gradient Descent*** is to tweak parameters iteratively in order to minimize a cost function. Gradient Descent is similar to being lost on a mountain in dense fog and can only feel the ground that is a couple feet in front of you. A good strategy to get to the bottom is to go down the steepest slope until you hit the valley. We are measuring the local gradient of the error function with regards to the parameter vector $\\theta$, and it goes in the direction of descending gradient.\n",
    "\n",
    "<img src=https://datadazed.s3-us-west-2.amazonaws.com/Gradient_Descent.png width=500px>\n",
    "\n",
    "You start by filling $\\theta$ with random values (this is called ***random initialization***), and then you improve it gradually , taking one baby step at a time, with each step attempting to decrease the cost function, until the algorithm converges to a minimum. The ***learning rate*** is a parameter used to change the size of the steps in Gradient Descent model. Set it too small, and the algorithm will have to go through many iterations to converge, which will take a long time and a lot of your compute resources.\n",
    "\n",
    "<img src=https://datadazed.s3-us-west-2.amazonaws.com/GD_small.png width=500px>\n",
    "\n",
    "If you make the ***learning rate*** too large, you can \"jump across the valley\" and end up farther up on the curve than you were before.\n",
    "\n",
    "<img src=https://datadazed.s3-us-west-2.amazonaws.com/GD_large.png width=500px>\n",
    "\n",
    "These charts can be misleading when dealing with more complex models, as some cost functions have ridges, plateaus, holes, or other types of odd shapes, making it very difficult to converge to the minimum. You can end up converging on a ***local minimum***, which will not be as good as a ***global minimum***.\n",
    "\n",
    "<img src=https://datadazed.s3-us-west-2.amazonaws.com/GD_irregular.png width=500px>\n",
    "\n",
    "When dealing with ***Linear Regression*** we will not have to worry about irregular shapes, because we use MSE as the cost function, and MSE is a ***convex function***, which means no two points have a line segment crossing the curve. We have to be careful in our search for parameters that minimize the cost function. It is a search for the model's ***parameter space***: the more parameters a model has, the more dimensions this space has, and the harder the search is. It is like searching for a  needle in a 500 dimensional haystack.\n",
    "\n",
    "<img src=https://datadazed.s3-us-west-2.amazonaws.com/GD.png width=500px>\n",
    "\n",
    "### Batch Gradient Descent\n",
    "\n",
    "When implementing ***Gradient Descent*** you need to calculate the gradient of the cost function with regards to each model parameter $\\theta_j$. Which means, you will need to calculate how much the cost function will change if you change $\\theta_j$ a small bit. This is referred to as a ***partial derivative***. In order to compute the partial derivative of a cost function with regards to parameter $\\theta_j$, noted as $\\frac{\\partial}{\\partial\\theta_j}MSE(\\theta)$:\n",
    "\n",
    "\\begin{equation}\n",
    "\\frac{\\partial}{\\partial\\theta_j}MSE(\\theta)=\\frac{2}{m}\\sum^m_{i=1}\\big(\\theta^Tx^{(i)}-y^{(i)}\\big)x^{(i)}_j\n",
    "\\end{equation}\n",
    "\n",
    "There is a way to calculate all the partial derivatives together instead of individually. You can use the gradient vector $\\nabla_\\theta MSE(\\theta)$, which contains all the partial derivatives of a cost function. It can be viewed as:\n",
    "\n",
    "\\begin{equation}\n",
    "\\nabla_\\theta MSE(\\theta)=\n",
    "    \\begin{pmatrix}\n",
    "    \\frac{\\partial}{\\partial\\theta_0}MSE(\\theta)\\\\\n",
    "    \\frac{\\partial}{\\partial\\theta_1}MSE(\\theta)\\\\\n",
    "    \\vdots\\\\\n",
    "    \\frac{\\partial}{\\partial\\theta_n}MSE(\\theta)\n",
    "    \\end{pmatrix}\n",
    "= \\frac{2}{m}X^T(X\\theta-y)\n",
    "\\end{equation}\n",
    "\n",
    "Once you have the gradient vector that points uphil, just go in the opposite direction, which means you need to subtract $\\nabla_\\theta MSE(\\theta)$ from $\\theta$. Remember that we need to establish a *learning rate* ($\\eta$). We need to multiply the gradient vector by $\\eta$ to determine the size of the downhill slope. Gradient Descent Step can be viewed as:\n",
    "\n",
    "\\begin{equation}\n",
    "\\theta^{(next\\hspace{.1cm}step)}=\\theta-\\eta \\nabla_\\theta MSE(\\theta)\n",
    "\\end{equation}"
   ]
  },
  {
   "cell_type": "code",
   "execution_count": 56,
   "metadata": {},
   "outputs": [
    {
     "name": "stdout",
     "output_type": "stream",
     "text": [
      "Our Theta is:\n",
      " [[4.47949433]\n",
      " [3.04738619]]\n"
     ]
    }
   ],
   "source": [
    "### Set our learning rate to 0.1\n",
    "eta = 0.1\n",
    "n_iterations = 1000\n",
    "m = 100\n",
    "\n",
    "### Random initialization\n",
    "theta = np.random.randn(2,1)\n",
    "\n",
    "for iteration in range(n_iterations):\n",
    "    gradients = 2/m * X_b.T.dot(X_b.dot(theta) - y)\n",
    "    theta = theta - eta * gradients\n",
    "    \n",
    "print(\"Our Theta is:\\n\", theta)"
   ]
  },
  {
   "cell_type": "markdown",
   "metadata": {},
   "source": [
    "Our theta at different *learning rates*:\n",
    "\n",
    "<img src =https://datadazed.s3-us-west-2.amazonaws.com/learning_rates.png width=500px>\n",
    "\n",
    "* ***Left*** - Learning rate is too low, it will take forever to reach the solution\n",
    "* ***Center*** - Learning rate is just right and was able to converge on the solution\n",
    "* ***Right*** - Learning rate is too high and blew past the solution, and is continuing to grow past it\n",
    "\n",
    "You can use ***[Grid Search](https://datadazed.com/2020/02/05/machine-learning-housing-example-project/#Finding_Hyperparameters_using_Grid_Search)*** to find a good learning rate.\n",
    "\n",
    "You may wonder how to set the number of iterations. If it is too low, you will still be far away from the optimal solution when the algorithm stops, but if it is too high, you will waste time while the model parameters do not change anymore. A simple solu‐ tion is to set a very large number of iterations but to interrupt the algorithm when the gradient vector becomes tiny—that is, when its norm becomes smaller than a tiny number $\\epsilon$ (called the tolerance)—because this happens when Gradient Descent has (almost) reached the minimum\n",
    "\n",
    "### Stochastic Gradient Descent\n",
    "\n",
    "The main issue with batch gradient descent, is that it uses the whol training set to compute the the gradients at every step, in turn, making it very slow when training large datasets. In that case, we can use ***Stochastic Gradient Descent*** which takes the opposite approach. ***Stochastic Gradient Descent*** picks a single instance at each step and then computes the gradient at that single instance. This makes the algorithm much faster, but also also more irregular at each step.\n",
    "\n",
    "<img src=https://datadazed.s3-us-west-2.amazonaws.com/SGD.png width=500px>\n",
    "\n",
    "\n",
    "If the cost function is very irregular this can actually help the algorithm jump out of local minima, so ***Stochastic Gradient Descent*** has a better chance of finding the global minimum than ***Batch Gradient Descent does***. The randomness is good because it means that it can escape from local optima, but it can never settle at the minimum. You can try to reduce the learning rate gradually to try to avoid not being able to settle at the minimum. You can set a *learning schedule* to slow down the learning rate. You have to be careful because if you reduce the learning rate too quickly you can get stuck at the local minima. On the other hand, if it is reduced too slowly, you can end up jumping around the minima for a long time and end up with a poor solution."
   ]
  },
  {
   "cell_type": "code",
   "execution_count": 57,
   "metadata": {},
   "outputs": [
    {
     "name": "stdout",
     "output_type": "stream",
     "text": [
      "Stochastic GD theta: \n",
      " [[4.47906729]\n",
      " [3.04432567]]\n"
     ]
    }
   ],
   "source": [
    "### Each round will be called an epoch\n",
    "n_epochs = 50\n",
    "### Learning schedule hyperparameters\n",
    "t0, t1 = 5, 50\n",
    "\n",
    "def learning_schedule(t):\n",
    "    return t0 / (t + t1)\n",
    "\n",
    "theta = np.random.randn(2, 1)\n",
    "\n",
    "for epoch in range(n_epochs):\n",
    "    for i in range(m):\n",
    "        random_index = np.random.randint(m)\n",
    "        xi = X_b[random_index:random_index+1]\n",
    "        yi = y[random_index:random_index+1]\n",
    "        gradients = 2 * xi.T.dot(xi.dot(theta) - yi)\n",
    "        eta = learning_schedule(epoch * m + i)\n",
    "        theta = theta - eta * gradients\n",
    "        \n",
    "print(\"Stochastic GD theta: \\n\", theta)"
   ]
  },
  {
   "cell_type": "code",
   "execution_count": 58,
   "metadata": {},
   "outputs": [
    {
     "name": "stdout",
     "output_type": "stream",
     "text": [
      "SGD Intercept: \n",
      " [4.48446062] \n",
      "SGD Coefficient: \n",
      " [3.09429951]\n"
     ]
    }
   ],
   "source": [
    "### Now lets use the Scikit-Learn Package\n",
    "from sklearn.linear_model import SGDRegressor\n",
    "\n",
    "### max_iter = epochs, tolerance = loss drops, eta0 = learning rate\n",
    "sgd_reg = SGDRegressor(max_iter=1000, tol=1e-3, penalty=None, eta0=0.1)\n",
    "sgd_reg.fit(X, y.ravel())\n",
    "\n",
    "print(\"SGD Intercept: \\n\", sgd_reg.intercept_, \"\\nSGD Coefficient: \\n\", sgd_reg.coef_)"
   ]
  },
  {
   "cell_type": "markdown",
   "metadata": {},
   "source": [
    "### Mini-batch Gradient Descent\n",
    "\n",
    "As you could probably guess by our previous sections, ***Mini-batch Gradient Descent*** is a combination of batch and stochastic gradient descent. It uses small samples at each step to calculate the gradient descent. We can compare the previous models as follows, keep in mind $m$ is the number of training instances, and $n$ is the number of features.\n",
    "\n",
    "<img src=https://datadazed.s3-us-west-2.amazonaws.com/Regressor_Comparison.png width=500px>\n",
    "\n",
    "### Polynomial Regression\n",
    "\n",
    "If your data is more complex than a straight line, you can still use a linear model to fit non-linear data, by adding powers to each feature as new features, then train a model on these extended sets of features. This technique is called ***Polynomial Regression***.\n",
    "\n",
    "Let's use a quadratic equation as an example:"
   ]
  },
  {
   "cell_type": "code",
   "execution_count": 59,
   "metadata": {},
   "outputs": [
    {
     "data": {
      "image/png": "[encoded data removed]",
      "text/plain": [
       "<Figure size 432x288 with 1 Axes>"
      ]
     },
     "metadata": {},
     "output_type": "display_data"
    }
   ],
   "source": [
    "m = 100\n",
    "X = 6 * np.random.rand(m, 1) - 3\n",
    "y = 0.5 * X**2 + X + 2 + np.random.rand(m, 1)\n",
    "\n",
    "plt.scatter(X, y, c=\"lightgreen\")\n",
    "plt.show()"
   ]
  },
  {
   "cell_type": "code",
   "execution_count": 60,
   "metadata": {},
   "outputs": [
    {
     "name": "stdout",
     "output_type": "stream",
     "text": [
      "Value at index 0 of X: \n",
      " [-2.55883025]\n",
      "\n",
      "Polynomial Values: \n",
      " [-2.55883025  6.54761225]\n"
     ]
    }
   ],
   "source": [
    "from sklearn.preprocessing import PolynomialFeatures\n",
    "\n",
    "poly_features = PolynomialFeatures(degree=2, include_bias=False)\n",
    "X_poly = poly_features.fit_transform(X)\n",
    "print(\"Value at index 0 of X: \\n\", X[0])\n",
    "print(\"\\nPolynomial Values: \\n\", X_poly[0])"
   ]
  },
  {
   "cell_type": "code",
   "execution_count": 61,
   "metadata": {},
   "outputs": [
    {
     "name": "stdout",
     "output_type": "stream",
     "text": [
      "Intercept: \n",
      " [2.45299366] \n",
      "Coefficient: \n",
      " [[1.00320431 0.52111015]]\n"
     ]
    },
    {
     "data": {
      "text/plain": [
       "<matplotlib.collections.PathCollection at 0x1a1a59eed0>"
      ]
     },
     "execution_count": 61,
     "metadata": {},
     "output_type": "execute_result"
    },
    {
     "data": {
      "image/png": "[encoded data removed]",
      "text/plain": [
       "<Figure size 432x288 with 1 Axes>"
      ]
     },
     "metadata": {},
     "output_type": "display_data"
    }
   ],
   "source": [
    "### X_poly now contains the original feature of X plus the square of this feature. \n",
    "### Now you can fit a LinearRegression model to this extended training data.\n",
    "\n",
    "lin_reg = LinearRegression()\n",
    "lin_reg.fit(X_poly, y)\n",
    "y_pred = lin_reg.predict(X_poly)\n",
    "print(\"Intercept: \\n\", lin_reg.intercept_, \"\\nCoefficient: \\n\", lin_reg.coef_)\n",
    "\n",
    "plt.scatter(X, y)\n",
    "plt.scatter(X, y_pred)"
   ]
  },
  {
   "cell_type": "markdown",
   "metadata": {},
   "source": [
    "### Learning Curve\n",
    "\n",
    "High-degree polynomials can do a much better job at fitting training data, but you have to be careful about overfitting the data. So how do you decide how complex your model is going to be? We have used *cross-validation* already, in the [example housing project post](https://datadazed.com/2020/02/05/machine-learning-housing-example-project/#Cross-Validation), to see how well our model *generalizes*. Another way to determine model performance is by using a ***learning curve***. A ***learning curve*** is a plot of the model's performance on the training set and the validation set as a function of the training set size. To generate the plots, train the data several times on different sized subset of the training set."
   ]
  },
  {
   "cell_type": "code",
   "execution_count": 62,
   "metadata": {},
   "outputs": [
    {
     "data": {
      "image/png": "[encoded data removed]",
      "text/plain": [
       "<Figure size 432x288 with 1 Axes>"
      ]
     },
     "metadata": {},
     "output_type": "display_data"
    }
   ],
   "source": [
    "from sklearn.metrics import mean_squared_error\n",
    "from sklearn.model_selection import train_test_split\n",
    "\n",
    "def plot_learning_curves(model, X, y):\n",
    "    X_train, X_val, y_train, y_val = train_test_split(X, y, test_size=0.2)\n",
    "    train_errors, val_errors = [], []\n",
    "    for m in range(1, len(X_train)):\n",
    "        model.fit(X_train[:m], y_train[:m])\n",
    "        y_train_predict = model.predict(X_train[:m])\n",
    "        y_val_predict = model.predict(X_val)\n",
    "        train_errors.append(mean_squared_error(y_train[:m], y_train_predict))\n",
    "        val_errors.append(mean_squared_error(y_val, y_val_predict))\n",
    "    plt.plot(np.sqrt(train_errors), \"r-+\", linewidth=2, label=\"train\")\n",
    "    plt.plot(np.sqrt(val_errors), \"b-\", linewidth=3, label=\"val\")\n",
    "    \n",
    "lin_reg = LinearRegression()\n",
    "plot_learning_curves(lin_reg, X, y)"
   ]
  },
  {
   "cell_type": "markdown",
   "metadata": {},
   "source": [
    "When there are just one or two instances in the training set, the model can fit them perfectly, which is why the curve starts at zero. But as new instances are added to the training set, it becomes impossible for the model to fit the training data perfectly, both because the data is noisy and because it is not linear at all. So the error on the training data goes up until it reaches a plateau, at which point adding new instances to the training set doesn’t make the average error much better or worse. Now let’s look at the performance of the model on the validation data. When the model is trained on very few training instances, it is incapable of generalizing properly, which is why the validation error is initially quite big. Then as the model is shown more training examples, it learns and thus the validation error slowly goes down. However, once again a straight line cannot do a good job modeling the data, so the error ends up at a plateau, very close to the other curve."
   ]
  },
  {
   "cell_type": "code",
   "execution_count": 63,
   "metadata": {},
   "outputs": [
    {
     "data": {
      "image/png": "[encoded data removed]",
      "text/plain": [
       "<Figure size 432x288 with 1 Axes>"
      ]
     },
     "metadata": {},
     "output_type": "display_data"
    }
   ],
   "source": [
    "### Train a 10th degree polynomial\n",
    "\n",
    "from sklearn.pipeline import Pipeline\n",
    "\n",
    "polynomial_regression = Pipeline([\n",
    "    (\"poly_features\", PolynomialFeatures(degree=10, include_bias=False)),\n",
    "    (\"lin_reg\", LinearRegression()),\n",
    "])\n",
    "\n",
    "plot_learning_curves(polynomial_regression, X, y)"
   ]
  },
  {
   "cell_type": "markdown",
   "metadata": {},
   "source": [
    "### Regularized Linear Models\n",
    "\n",
    "As mentioned in other posts, one way we can reduce over fitting is by regularizing the model, by constraining the degrees of freedom it has. We just showed an example of this when we added more polynomial degrees, we ended up overfitting the model. \n",
    "\n",
    "#### Ridge Regression\n",
    "\n",
    "***Ridge Regression*** (Tikhonov Regression) is a regularized version of Linear Regression: a regularization term equal to $\\alpha\\sum_{i=1}^n=\\theta_i^2$ is added to the cost function. This causes the model to fit the data and keep the weights as small as possible. The regularization term should only be added to the model during training. The hyperparameter $\\alpha$ controls how much you want to regularize the model. For example, if $\\alpha=0$ then *Ridge Regression* is equal to *Linear Regression*, but if $\\alpha$ is very large, then all weights will end up close to 0 and the result is a flatline running through the mean of the dataset. ***Ridge Regression Cost Function:***\n",
    "\n",
    "\\begin{equation}\n",
    "J(\\theta)=MSE(\\theta)+\\alpha\\frac{1}{2}\\sum_{i=1}^n\\theta_i^2\n",
    "\\end{equation}\n",
    "\n",
    "The bias term $\\theta_0$ is not regularized (the sum ($\\sum$) starts at i = 1, not 0). If we define $w$ as the vector of feature weights ($\\theta_1$ to $\\theta_n$), then the regularization term is simply equal to $\\frac{1}{2}( \\lVert {w} \\rVert _2)^2$, where $ \\lVert w \\rVert_2$ represents the $l_2$ norm of the weight vector.\n",
    "\n",
    "It is important to scale the data (e.g., using a `StandardScaler`) before performing Ridge Regression, as it is sensitive to the scale of the input features. \n",
    "\n",
    "Ridge Regression closed-form solution:\n",
    "\n",
    "\\begin{equation}\n",
    "\\hat\\theta = \\big( X^TX+ \\alpha A \\big)^{-1} \\hspace{.25cm} X^T \\hspace{.25cm} y\n",
    "\\end{equation}"
   ]
  },
  {
   "cell_type": "code",
   "execution_count": 64,
   "metadata": {},
   "outputs": [
    {
     "name": "stdout",
     "output_type": "stream",
     "text": [
      "Ridge Regression:  [[5.72922032]]\n",
      "SGD:  [5.70922821]\n"
     ]
    }
   ],
   "source": [
    "from sklearn.linear_model import Ridge\n",
    "\n",
    "ridge_reg = Ridge(alpha=1, solver=\"cholesky\")\n",
    "ridge_reg.fit(X, y)\n",
    "\n",
    "print(\"Ridge Regression: \", ridge_reg.predict([[1.5]]))\n",
    "\n",
    "### Stochastic Gradient Descent\n",
    "sgd_reg = SGDRegressor(penalty=\"l2\")\n",
    "sgd_reg.fit(X, y.ravel())\n",
    "\n",
    "print(\"SGD: \", sgd_reg.predict([[1.5]]))"
   ]
  },
  {
   "cell_type": "markdown",
   "metadata": {},
   "source": [
    "The penalty hyperparameter set the regularization that will be used, we set this as the \"l2\" norm, meaning the cost function equal to half the square of the \"l2\" norm of the weight vector.\n",
    "\n",
    "### Lasso Regression\n",
    "\n",
    "***Least Absolute Shrinkage and Selection Operator Regression (Lasso)*** is similar to *Ridge Regression* in that it uses a norm of the weight vector. Where *Ridge* uses the \"l2\" norm, *Lasso* uses the \"l1\" norm. The *Lasso* function is:\n",
    "\n",
    "\\begin{equation}\n",
    "J(\\theta)=MSE(\\theta)+\\alpha\\sum_{i=1}^n\\big\\lvert{\\theta_i}\\big\\rvert\n",
    "\\end{equation}\n",
    "\n",
    "An important characteristic of Lasso Regression is that it tends to completely eliminate the weights of the least important features (i.e., set them to zero). Lasso Regression automatically performs feature selection and outputs a sparse model (i.e., with few nonzero feature weights)."
   ]
  },
  {
   "cell_type": "code",
   "execution_count": 65,
   "metadata": {},
   "outputs": [
    {
     "name": "stdout",
     "output_type": "stream",
     "text": [
      "Lasso:  [5.68930416]\n"
     ]
    }
   ],
   "source": [
    "from sklearn.linear_model import Lasso\n",
    "\n",
    "lasso_reg = Lasso(alpha=0.1)\n",
    "lasso_reg.fit(X, y)\n",
    "print(\"Lasso: \", lasso_reg.predict([[1.5]]))"
   ]
  },
  {
   "cell_type": "markdown",
   "metadata": {},
   "source": [
    "### Elastic Net\n",
    "\n",
    "Elastic Net is a middle ground between Ridge Regression and Lasso Regression. The regularization term is a simple mix of both Ridge and Lasso’s regularization terms, and you can control the mix ratio $r$. When $r = 0$, Elastic Net is equivalent to Ridge Regression, and when $r = 1$, it is equivalent to Lasso Regression.\n",
    "\n",
    "\\begin{equation}\n",
    "J(\\theta)=MSE(\\theta)+ r\\alpha\\sum_{i=1}^n\\big\\lvert\\theta_i\\big\\rvert+\\frac{1-r}{2}\\alpha\\sum_{i=1}^n\\theta_i^2\n",
    "\\end{equation}\n",
    "\n",
    "So when should you use plain Linear Regression (i.e., without any regularization), Ridge, Lasso, or Elastic Net? It is almost always preferable to have at least a little bit of regularization, so generally you should avoid plain Linear Regression. Ridge is a good default, but if you suspect that only a few features are actually useful, you should pre‐ fer Lasso or Elastic Net since they tend to reduce the useless features’ weights down to zero as we have discussed. In general, Elastic Net is preferred over Lasso since Lasso may behave erratically when the number of features is greater than the number of training instances or when several features are strongly correlated."
   ]
  },
  {
   "cell_type": "code",
   "execution_count": 66,
   "metadata": {},
   "outputs": [
    {
     "name": "stdout",
     "output_type": "stream",
     "text": [
      "Elastic Net:  [5.68874853]\n"
     ]
    }
   ],
   "source": [
    "from sklearn.linear_model import ElasticNet\n",
    "\n",
    "elastic_net = ElasticNet(alpha=0.1, l1_ratio=0.5)\n",
    "elastic_net.fit(X, y)\n",
    "print(\"Elastic Net: \", elastic_net.predict([[1.5]]))"
   ]
  },
  {
   "cell_type": "markdown",
   "metadata": {},
   "source": [
    "### Early Stopping\n",
    "\n",
    "A very different way to regularize iterative learning algorithms such as Gradient Descent is to stop training as soon as the validation error reaches a minimum. This is called early stopping."
   ]
  },
  {
   "cell_type": "code",
   "execution_count": null,
   "metadata": {},
   "outputs": [],
   "source": [
    "from sklearn.base import clone\n",
    "from sklearn.preprocessing import StandardScaler\n",
    "\n",
    "poly_scaler = Pipeline([\n",
    "    (\"poly_features\", PolynomialFeatures(degree=90, include_bias=False)),\n",
    "    (\"std_scaler\", StandardScaler())\n",
    "])\n",
    "X_train_poly_scaled = poly_scaler.fit_transform(X_train)\n",
    "X_val_poly_scaled = poly_scaler.transform(X_val)\n",
    "\n",
    "sgd_reg = SGDRegressor(max_iter=1, tol=-np.infty, warm_start=True,\n",
    "                      penalty=None, learning_rate=\"constant\", eta0=0.0005)\n",
    "minimum_val_error = float(\"inf\")\n",
    "best_epoch = None\n",
    "best_model = None\n",
    "for epoch in range(1000):\n",
    "    sgd_reg.fit(X_train_poly_scaled, y_train)\n",
    "    y_val_predict = sgd_reg.predict(X_val_poly_scaled)\n",
    "    val_error = mean_squared_error(y_val, y_val_predict)\n",
    "    if val_error < minimum_val_error:\n",
    "        minimum_val_error = val_error\n",
    "        best_epoch = epoch\n",
    "        best_model = clone(sgd_reg)"
   ]
  },
  {
   "cell_type": "markdown",
   "metadata": {},
   "source": [
    "### Logistic Regression\n",
    "\n",
    "***Logistic Regression (also called Logit Regression)*** is commonly used to estimate the probability that an instance belongs to a particular class. If the estimated probability is greater than 50%, then the model predicts that the instance belongs to that class (called the positive class, labeled “1”), or else it predicts that it does not (i.e., it belongs to the negative class, labeled “0”). This makes it a binary classifier.\n",
    "\n",
    "#### Estimating Probabilities\n",
    "\n",
    "Just like a Linear Regression model, a Logistic Regression model computes a weighted sum of the input features (plus a bias term), but instead of outputting the result directly like the Linear Regression model does, it outputs the logistic of this result. Logistic Regression function:\n",
    "\n",
    "\\begin{equation}\n",
    "\\hat{p}=h_\\theta(x) = \\sigma\\big(x^T\\theta\\big)\n",
    "\\end{equation}\n",
    "\n",
    "The logistic—noted $\\sigma(\\cdot)$—is a sigmoid function (i.e., S-shaped) that outputs a number between 0 and 1. Logistic function:\n",
    "\n",
    "\\begin{equation}\n",
    "\\sigma(t)=\\frac{1}{1+exp(-t)}\n",
    "\\end{equation}\n",
    "\n",
    "<img src=https://datadazed.s3-us-west-2.amazonaws.com/sigmoid_function.png width=500px>\n",
    "\n",
    "Model Prediction:\n",
    "\n",
    "\\begin{equation}\n",
    "\\hat{y}=\\begin{cases}\n",
    "0 \\hspace{.2cm} if \\hspace{.2cm} \\hat{p} < 0.5\\\\\n",
    "1 \\hspace{.2cm} if \\hspace{.2cm} \\hat{p} >= 0.5\\\\\n",
    "\\end{cases}\n",
    "\\end{equation}\n",
    "\n",
    "The objective of training is to set the parameter vector $\\theta$ so that the model estimates high probabilities for positive instances $(y = 1)$ and low probabilities for negative instances $(y = 0)$. The cost function is:\n",
    "\n",
    "\\begin{equation}\n",
    "c(\\theta)=\\begin{cases}\n",
    "-log(\\hat{p}) \\hspace{.2cm} if \\hspace{.2cm} y=1 \\\\\n",
    "-log(1-\\hat{p}) \\hspace{.2cm} if \\hspace{.2cm} y=0\n",
    "\\end{cases}\n",
    "\\end{equation}\n",
    "\n",
    "This cost function makes sense because $–log(t)$ grows very large when $t$ approaches 0, so the cost will be large if the model estimates a probability close to 0 for a positive instance, and it will also be very large if the model estimates a probability close to 1 for a negative instance. On the other hand, $– log(t)$ is close to 0 when $t$ is close to 1, so the cost will be close to 0 if the estimated probability is close to 0 for a negative instance or close to 1 for a positive instance, which is precisely what we want.\n",
    "\n",
    "### Decision Boundaries\n",
    "\n",
    "Let’s try to build a classifier to detect the Iris-Virginica type based only on the petal width feature."
   ]
  },
  {
   "cell_type": "code",
   "execution_count": 72,
   "metadata": {},
   "outputs": [
    {
     "name": "stdout",
     "output_type": "stream",
     "text": [
      "Iris Keys:  ['data', 'target', 'target_names', 'DESCR', 'feature_names', 'filename']\n"
     ]
    },
    {
     "data": {
      "text/plain": [
       "<matplotlib.legend.Legend at 0x1a1cc1f190>"
      ]
     },
     "execution_count": 72,
     "metadata": {},
     "output_type": "execute_result"
    },
    {
     "data": {
      "image/png": "[encoded data removed]",
      "text/plain": [
       "<Figure size 432x288 with 1 Axes>"
      ]
     },
     "metadata": {},
     "output_type": "display_data"
    }
   ],
   "source": [
    "from sklearn import datasets\n",
    "\n",
    "iris = datasets.load_iris()\n",
    "print(\"Iris Keys: \", list(iris.keys()))\n",
    "\n",
    "X = iris[\"data\"][:, 3:] ### petal width\n",
    "y = (iris[\"target\"] == 2).astype(np.int)\n",
    "\n",
    "### Training a Logistic Regression Model\n",
    "\n",
    "from sklearn.linear_model import LogisticRegression\n",
    "\n",
    "log_reg = LogisticRegression()\n",
    "log_reg.fit(X, y)\n",
    "\n",
    "X_new = np.linspace(0, 3, 1000).reshape(-1, 1)\n",
    "y_proba = log_reg.predict_proba(X_new)\n",
    "plt.plot(X_new, y_proba[:, 1], \"g-\", label=\"Iris-Virginica\")\n",
    "plt.plot(X_new, y_proba[:, 0], \"b--\", label=\"Not Iris-Virginca\")\n",
    "plt.legend()"
   ]
  },
  {
   "cell_type": "markdown",
   "metadata": {},
   "source": [
    "The petal width of Iris-Virginica flowers (represented by triangles) ranges from 1.4 cm to 2.5 cm, while the other iris flowers (represented by squares) generally have a smaller petal width, ranging from 0.1 cm to 1.8 cm. Notice that there is a bit of overlap. Above about 2 cm the classifier is highly confident that the flower is an Iris- Virginica (it outputs a high probability to that class), while below 1 cm it is highly confident that it is not an Iris-Virginica (high probability for the “Not Iris-Virginica” class). "
   ]
  },
  {
   "cell_type": "code",
   "execution_count": 73,
   "metadata": {},
   "outputs": [
    {
     "data": {
      "text/plain": [
       "array([1, 0])"
      ]
     },
     "execution_count": 73,
     "metadata": {},
     "output_type": "execute_result"
    }
   ],
   "source": [
    "log_reg.predict([[1.7], [1.5]])"
   ]
  },
  {
   "cell_type": "markdown",
   "metadata": {},
   "source": [
    "### Softmax Regression\n",
    "\n",
    "The Logistic Regression model can be generalized to support multiple classes directly, without having to train and combine multiple binary classifiers, this is called ***Softmax Regression***, or ***Multinomial Logistic Regression***. When given an instance of $x$, the *softmax model* first computes a score of $s_k(x)$ for each class of $k$, then estimates the probability of each class by applying the *softmax function* (aka *normalized exponential*) to the scores. *Softmax* scores for class of $k$:\n",
    "\n",
    "\\begin{equation}\n",
    "s_k(x)=x^T\\theta^{(k)}\n",
    "\\end{equation}\n",
    "\n",
    "Each class has its own parameter vector $\\theta^{(k)}$ and all these vectors are typically stored as rows in a parameter matrix $\\Theta$. Once you completed the score of each you can estimate each $\\hat{P}_k$ by running it through the softmax function:\n",
    "\n",
    "\\begin{equation}\n",
    "\\hat{P}_k = \\sigma(s(x))_k=\\frac{exp\\big(s_k(x)\\big)}{\\sum_{j=1}^Kexp\\big(s_j(x)\\big)}\n",
    "\\end{equation}\n",
    "\n",
    "* $K$ is the number of classes\n",
    "* $s(x)$ is a vector containing the scores of each class for the instance $x$\n",
    "* $\\sigma(s(x))_k$ is the estimated probability that the instance $x$ belongs to class $k$ given the scores of each class for that instance"
   ]
  },
  {
   "cell_type": "code",
   "execution_count": 74,
   "metadata": {},
   "outputs": [
    {
     "name": "stdout",
     "output_type": "stream",
     "text": [
      "Softmax Prediction:  [2]\n",
      "softmax Prediciton:  [[6.38014896e-07 5.74929995e-02 9.42506362e-01]]\n"
     ]
    }
   ],
   "source": [
    "X = iris[\"data\"][:, (2, 3)]\n",
    "y = iris[\"target\"]\n",
    "\n",
    "softmax_reg = LogisticRegression(multi_class=\"multinomial\", solver=\"lbfgs\", C=10)\n",
    "softmax_reg.fit(X, y)\n",
    "\n",
    "print(\"Softmax Prediction: \", softmax_reg.predict([[5, 2]]))\n",
    "print(\"softmax Prediciton: \", softmax_reg.predict_proba([[5, 2]]))"
   ]
  }
 ],
 "metadata": {
  "kernelspec": {
   "display_name": "Python 3",
   "language": "python",
   "name": "python3"
  },
  "language_info": {
   "codemirror_mode": {
    "name": "ipython",
    "version": 3
   },
   "file_extension": ".py",
   "mimetype": "text/x-python",
   "name": "python",
   "nbconvert_exporter": "python",
   "pygments_lexer": "ipython3",
   "version": "3.7.6"
  },
  "toc-showmarkdowntxt": false
 },
 "nbformat": 4,
 "nbformat_minor": 4
}
