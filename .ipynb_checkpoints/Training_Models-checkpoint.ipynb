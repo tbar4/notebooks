{
 "cells": [
  {
   "cell_type": "markdown",
   "metadata": {},
   "source": [
    "### Linear Regression\n",
    "\n",
    "A ***linear model*** makes a prediction by simply computing a weighted sum of the input features, plus a constant called the ***bias term*** (also called the ***intercept term***). The equation for a linear model called be written as:\n",
    "\n",
    "\\begin{equation}\n",
    "\\hat{y}=\n",
    "_0+\\theta_1x_1+\\theta_2x_2+...+\\theta_nx_n\n",
    "\\end{equation}\n",
    "\n",
    "* $\\hat{y}$ is the predicted value\n",
    "* $n$ is the number of features\n",
    "* $x_i$ is the $i$th feature value\n",
    "* $\\theta_j$ is the $j$th model parameter (including the bias term $\\theta_0$ and the feature weights $\\theta_1, \\theta_2,..., \\theta_n$)\n",
    "\n",
    "Or it can be written more concisely in the vectorized form:\n",
    "\n",
    "\\begin{equation}\n",
    "\\hat{y}=h_0(x)=\\theta \\cdot x\n",
    "\\end{equation}\n",
    "\n",
    "* $\\theta$ is the model's *parameter vector*, containing the bias term $\\theta_0$ and the feature weights $\\theta_1$ to $\\theta_n$\n",
    "* x is the instance's *feature vector*, containing $x_0$ to $x_n$, with $x_0$ always equal to $1$\n",
    "* $\\theta \\cdot x$ is the dot product of the vectors $\\theta$ and $x$, which is equal to $\\theta_0x_0+\\theta_1x_1+\\theta_2x_2+...+\\theta_nx_n$\n",
    "* $h_0$ is the hypothesis function, using the model parameters $\\theta$\n",
    "\n",
    "In Machine Learning, vectors are represented as ***column vectors***, which are 2D arrays with a single column. If $\\theta$ and $x$ are column vectors, then the prediction $\\hat{y}=\\theta^Tx$, where $\\theta^T$ is the transpose of $\\theta$ (a row vector instead of a column vector) and $\\theta^Tx$ is the matrix multiplication of $\\theta^T$ and $x$. It is the same prediction, but now it is represented as a single cell matrix rather than a scalar value.\n",
    "\n",
    "The best way to measure the model accuracy for a linear regression model is to use the ***Root Mean Square Error***. We need to find a value of $\\theta$ that minimizes the RMSE. The MSE of a Linear Regression hypothesis $h_\\theta$ on a training set $X$ is calculated using:\n",
    "\n",
    "\\begin{equation}\n",
    "MSE(X, h_\\theta)=\\frac{1}{m}\\sum_{i=1}^m\\big(\\theta^Tx^{(i)}-y^{(i)}\\big)^2\n",
    "\\end{equation}\n",
    "\n",
    "A difference is that we write $h_\\theta$ instead of $h$ because the model is parameterized by the vector $\\theta$, but to simplify it will be shown as $MSE(\\theta)$ instead of $MSE(X, h_\\theta)$.\n",
    "\n",
    "### Normal Equation\n",
    "\n",
    "In order to find the value of $\\theta$ that minimizes the cost function, there is a ***closed-form solution***, i.e. a mathematical equation that gives the result directly. This is called the ***normal equation***:\n",
    "\n",
    "\\begin{equation}\n",
    "\\hat{\\theta}=\\big(X^T \\cdot X\\big)^{-1} \\cdot X^T \\cdot y\n",
    "\\end{equation}\n",
    "\n",
    "* $\\hat{\\theta}$ is the value of $\\theta$ that minimizes the cost function\n",
    "* $y$ is the vector of target values containing $y^{(1)}$ to $y^{(m)}$"
   ]
  },
  {
   "cell_type": "code",
   "execution_count": 6,
   "metadata": {},
   "outputs": [
    {
     "data": {
      "image/png": "[encoded data removed]",
      "text/plain": [
       "<Figure size 432x288 with 1 Axes>"
      ]
     },
     "metadata": {},
     "output_type": "display_data"
    }
   ],
   "source": [
    "### We can test the normal function above by creating some linear data\n",
    "\n",
    "import numpy as np\n",
    "import matplotlib.pyplot as plt\n",
    "\n",
    "X = 2 * np.random.rand(100, 1)\n",
    "y = 4 + 3 * X + np.random.rand(100, 1)\n",
    "\n",
    "plt.scatter(X, y, c=\"lightgreen\")\n",
    "plt.show()"
   ]
  },
  {
   "cell_type": "markdown",
   "metadata": {},
   "source": [
    "We can now compute $\\hat{\\theta}$ using the ***Normal Equation***. We can use the `inv()` function from *NumPy's* Linear Algebra module (`np.linalg`) to compute the inverse of a matrix, and the `dot()` method for the matrix multiplication."
   ]
  },
  {
   "cell_type": "code",
   "execution_count": 19,
   "metadata": {},
   "outputs": [
    {
     "name": "stdout",
     "output_type": "stream",
     "text": [
      "Regular X: \n",
      " [[1.397958  ]\n",
      " [0.72384394]\n",
      " [1.5303652 ]\n",
      " [1.36481958]\n",
      " [0.62854074]]\n",
      "X with 1 added to it (do do matrix multiplication): \n",
      " [[1.         1.397958  ]\n",
      " [1.         0.72384394]\n",
      " [1.         1.5303652 ]\n",
      " [1.         1.36481958]\n",
      " [1.         0.62854074]]\n",
      "Theta best: \n",
      " [[4.46723095]\n",
      " [3.04982004]]\n"
     ]
    }
   ],
   "source": [
    "### Add X\\theta = 1 to each instance\n",
    "X_b = np.c_[np.ones((100, 1)), X]\n",
    "print(\"Regular X: \\n\", X[:5])\n",
    "print(\"X with 1 added to it (do do matrix multiplication): \\n\", X_b[:5])\n",
    "### Our Normal Function\n",
    "theta_best = np.linalg.inv(X_b.T.dot(X_b)).dot(X_b.T).dot(y)\n",
    "print(\"Theta best: \\n\", theta_best)"
   ]
  },
  {
   "cell_type": "markdown",
   "metadata": {},
   "source": [
    "Considering our original equation was $y=4+3x_1+Gaussian\\hspace{.25cm}Noise$, our model prediction of $\\hat{y}=4.467 + 3.05x_n$ is pretty close to the actual equation. remember that we will never be able to get it perfect because of the concept of ***irreducible error***.\n",
    "\n",
    "We can now make predictions using $\\hat{\\theta}$:"
   ]
  },
  {
   "cell_type": "code",
   "execution_count": 22,
   "metadata": {},
   "outputs": [
    {
     "name": "stdout",
     "output_type": "stream",
     "text": [
      "Prediction for X_new: \n",
      " [[ 4.46723095]\n",
      " [10.56687102]]\n"
     ]
    }
   ],
   "source": [
    "X_new = np.array([[0], [2]])\n",
    "X_new_b = np.c_[np.ones((2, 1)), X_new]\n",
    "y_predict = X_new_b.dot(theta_best)\n",
    "print(\"Prediction for X_new: \\n\", y_predict)"
   ]
  },
  {
   "cell_type": "code",
   "execution_count": 25,
   "metadata": {},
   "outputs": [
    {
     "data": {
      "image/png": "[encoded data removed]",
      "text/plain": [
       "<Figure size 432x288 with 1 Axes>"
      ]
     },
     "metadata": {},
     "output_type": "display_data"
    }
   ],
   "source": [
    "plt.plot(X_new, y_predict, \"r-\")\n",
    "plt.plot(X, y, \"b.\")\n",
    "plt.show()"
   ]
  },
  {
   "cell_type": "markdown",
   "metadata": {},
   "source": [
    "It is even easier to perform a ***Linear Regression*** in `Scikit-Learn`"
   ]
  },
  {
   "cell_type": "code",
   "execution_count": 32,
   "metadata": {},
   "outputs": [
    {
     "name": "stdout",
     "output_type": "stream",
     "text": [
      "Linear Regression Intercept: \n",
      " [4.46723095] \n",
      " Linear Regression Coefficient: \n",
      " [[3.04982004]]\n"
     ]
    }
   ],
   "source": [
    "from sklearn.linear_model import LinearRegression\n",
    "lin_reg = LinearRegression()\n",
    "lin_reg.fit(X, y)\n",
    "print(\"Linear Regression Intercept: \\n\", lin_reg.intercept_,\"\\n\", \"Linear Regression Coefficient: \\n\", lin_reg.coef_)"
   ]
  },
  {
   "cell_type": "markdown",
   "metadata": {},
   "source": [
    "The LinearRegression class is based on the `scipy.linalg.lstsq()` function (the name stands for “***least squares***”), which you could call directly:"
   ]
  },
  {
   "cell_type": "code",
   "execution_count": 33,
   "metadata": {},
   "outputs": [
    {
     "name": "stdout",
     "output_type": "stream",
     "text": [
      "Theta Best Single Value Decomposition: \n",
      " [[4.46723095]\n",
      " [3.04982004]]\n"
     ]
    }
   ],
   "source": [
    "theta_best_svd, residuals, rank, s = np.linalg.lstsq(X_b, y, rcond=1e-6)\n",
    "print(\"Theta Best Single Value Decomposition: \\n\", theta_best_svd)"
   ]
  },
  {
   "cell_type": "markdown",
   "metadata": {},
   "source": [
    "This function computes $\\hat{\\theta}=X^+y$ where $X^+$ is the *pseudoinverse* of $X$ (specifically the Moore-Pearson inverse). You can use `np.linalg.pinv()` to compute the pseudoinverse directly:"
   ]
  },
  {
   "cell_type": "code",
   "execution_count": 36,
   "metadata": {},
   "outputs": [
    {
     "name": "stdout",
     "output_type": "stream",
     "text": [
      "Pseudoinverse:\n",
      " [[4.46723095]\n",
      " [3.04982004]]\n"
     ]
    }
   ],
   "source": [
    "print(\"Pseudoinverse:\\n\", np.linalg.pinv(X_b).dot(y))"
   ]
  },
  {
   "cell_type": "markdown",
   "metadata": {},
   "source": [
    "The ***pseudoinverse*** itself is computed using a standard matrix factorization technique called ***Singular Value Decompisition (SVD)*** that can decompose the training set matrix $X$ into the matrix multiplication of three matrices $U \\hspace{.5cm} \\Sigma \\hspace{.5cm} V^T$. The pseudoinverse is computed as $X^+=V\\Sigma^+U^T$. To compute the matrix $\\Sigma^+$ the algorithm takes $\\Sigma$ and sets to zero all values smaleer than a tiny threshold value, then it replaces all the non-zero values with their inverse, and finally it transposes the resulting matrix. This approach is more efficient than computing the *Normal Equation*.\n",
    "\n",
    "### Gradient Descent\n",
    "\n",
    "***Gradient Descent*** is a very generic optimization algorithm capable of finding optimal solutions to a wide range of problems. The idea of ***Gradient Descent*** is to tweak parameters iteratively in order to minimize a cost function. Gradient Descent is similar to being lost on a mountain in dense fog and can only feel the ground that is a couple feet in front of you. A good strategy to get to the bottom is to go down the steepest slope until you hit the valley. We are measuring the local gradient of the error function with regards to the parameter vector $\\theta$, and it goes in the direction of descending gradient.\n",
    "\n",
    "<img src=https://datadazed.s3-us-west-2.amazonaws.com/Gradient_Descent.png width=500px>\n",
    "\n",
    "You start by filling $\\theta$ with random values (this is called ***random initialization***), and then you improve it gradually , taking one baby step at a time, with each step attempting to decrease the cost function, until the algorithm converges to a minimum. The ***learning rate*** is a parameter used to change the size of the steps in Gradient Descent model. Set it too small, and the algorithm will have to go through many iterations to converge, which will take a long time and a lot of your compute resources.\n",
    "\n",
    "<img src=https://datadazed.s3-us-west-2.amazonaws.com/GD_small.png width=500px>\n",
    "\n",
    "If you make the ***learning rate*** too large, you can \"jump across the valley\" and end up farther up on the curve than you were before.\n",
    "\n",
    "<img src=https://datadazed.s3-us-west-2.amazonaws.com/GD_large.png width=500px>\n",
    "\n",
    "These charts can be misleading when dealing with more complex models, as some cost functions have ridges, plateaus, holes, or other types of odd shapes, making it very difficult to converge to the minimum. You can end up converging on a ***local minimum***, which will not be as good as a ***global minimum***.\n",
    "\n",
    "<img src=https://datadazed.s3-us-west-2.amazonaws.com/GD_irregular.png width=500px>\n",
    "\n",
    "When dealing with ***Linear Regression*** we will not have to worry about irregular shapes, because we use MSE as the cost function, and MSE is a ***convex function***, which means no two points have a line segment crossing the curve. We have to be careful in our search for parameters that minimize the cost function. It is a search for the model's ***parameter space***: the more parameters a model has, the more dimensions this space has, and the harder the search is. It is like searching for a  needle in a 500 dimensional haystack."
   ]
  },
  {
   "cell_type": "code",
   "execution_count": null,
   "metadata": {},
   "outputs": [],
   "source": []
  }
 ],
 "metadata": {
  "kernelspec": {
   "display_name": "Python 3",
   "language": "python",
   "name": "python3"
  },
  "language_info": {
   "codemirror_mode": {
    "name": "ipython",
    "version": 3
   },
   "file_extension": ".py",
   "mimetype": "text/x-python",
   "name": "python",
   "nbconvert_exporter": "python",
   "pygments_lexer": "ipython3",
   "version": "3.7.6"
  },
  "toc-showmarkdowntxt": false
 },
 "nbformat": 4,
 "nbformat_minor": 4
}
