{
 "cells": [
  {
   "cell_type": "markdown",
   "metadata": {},
   "source": [
    "### Classification\n",
    "\n",
    "In this article we will be analyzing handwritten numbers in order to predict future pictures of handwritten digits. We will be using a dataset that is internal to the `sklearn` package. This example of Machine Learning is usually referred to as the *\"Hello, World!\"* of Machine Learning. \n",
    "\n",
    "In the last article we worked on a supervised learning model that used *regression* to **predicted values** and in this example we will be using *classification* to **predict classes**. We will be using what is called the MNIST dataset. The MNIST dataset contains 70,000 small handwritten digits from high schoolers in the U.S.A. When Data Scientists build new classification models, a lot will test it against this dataset. There are a couple keys that might be worth explaining in the dataset before we load it.\n",
    "\n",
    "*DESCR* - is a key describing the dataset\n",
    "*data* - a key containing an array with one row per instance and one column per feature\n",
    "*target* - a key containing an array with labels\n",
    "\n",
    "Let's go ahead and load our data!"
   ]
  },
  {
   "cell_type": "code",
   "execution_count": 64,
   "metadata": {},
   "outputs": [],
   "source": [
    "from sklearn.datasets import fetch_openml\n",
    "\n",
    "mnist = fetch_openml('mnist_784', version=1)"
   ]
  },
  {
   "cell_type": "markdown",
   "metadata": {},
   "source": [
    "### Viewing our data types\n",
    "\n",
    "One important thing to remember is that our Machine Learning Models work best with numeric values and not so well with objects. Let us make sure that we are only dealing with numeric objects. We can see based on the next output that our target values are strings (objects), so we should go ahead and fix that after we load in our data."
   ]
  },
  {
   "cell_type": "code",
   "execution_count": 80,
   "metadata": {},
   "outputs": [
    {
     "name": "stdout",
     "output_type": "stream",
     "text": [
      "Data's data type: float64\n",
      "Target's data type: object\n"
     ]
    }
   ],
   "source": [
    "print(\"Data's data type:\", mnist[\"data\"].dtype)\n",
    "print(\"Target's data type:\", mnist[\"target\"].dtype)"
   ]
  },
  {
   "cell_type": "code",
   "execution_count": 194,
   "metadata": {},
   "outputs": [
    {
     "name": "stdout",
     "output_type": "stream",
     "text": [
      "Keys:  dict_keys(['data', 'target', 'frame', 'feature_names', 'target_names', 'DESCR', 'details', 'categories', 'url'])\n",
      "X Shape (aka our features):  (70000, 784)\n",
      "y Shape (aka our targets):  (70000,)\n"
     ]
    }
   ],
   "source": [
    "print(\"Keys: \", mnist.keys())\n",
    "\n",
    "## Separate oout our features from our labels\n",
    "X, y = mnist[\"data\"], mnist[\"target\"]\n",
    "\n",
    "## Remember that our target values are in string as of now, let us change it to integer so that our model works better\n",
    "y = y.astype(np.uint8)\n",
    "print(\"X Shape (aka our features): \", X.shape)\n",
    "print(\"y Shape (aka our targets): \", y.shape)"
   ]
  },
  {
   "cell_type": "markdown",
   "metadata": {},
   "source": [
    "### A quick overview of arrays\n",
    "\n",
    "> A numpy array is a grid of values, all of the same type, and is indexed by a tuple of nonnegative integers. The number of dimensions is the rank of the array; the shape of an array is a tuple of integers giving the size of the array along each dimension.\n",
    "\n",
    "Understanding arrays will be very valuable for understanding how we will reshape the dataset to generate an image to test our classification model."
   ]
  },
  {
   "cell_type": "code",
   "execution_count": 209,
   "metadata": {},
   "outputs": [
    {
     "name": "stdout",
     "output_type": "stream",
     "text": [
      "Square Root of 784 (i.e. the length of the array of our data):  28.0\n",
      "Label (Digit Value):  0\n",
      "Label (Digit Value):  4\n",
      "Label (Digit Value):  1\n"
     ]
    },
    {
     "data": {
      "image/png": "[encoded data removed]",
      "text/plain": [
       "<Figure size 432x288 with 1 Axes>"
      ]
     },
     "metadata": {},
     "output_type": "display_data"
    },
    {
     "data": {
      "image/png": "[encoded data removed]",
      "text/plain": [
       "<Figure size 432x288 with 1 Axes>"
      ]
     },
     "metadata": {},
     "output_type": "display_data"
    },
    {
     "data": {
      "image/png": "[encoded data removed]",
      "text/plain": [
       "<Figure size 432x288 with 1 Axes>"
      ]
     },
     "metadata": {},
     "output_type": "display_data"
    }
   ],
   "source": [
    "import matplotlib.pyplot as plt\n",
    "import numpy as np\n",
    "\n",
    "print(\"Square Root of 784 (i.e. the length of the array of our data): \", np.sqrt(784))\n",
    "\n",
    "## A function that quickly allows you to test a value in the dataset\n",
    "def digit_with_label(num=0, X=X, y=y):\n",
    "    ## Get the square root of the array\n",
    "    sqrt_value = int(np.sqrt(X.shape[1]))\n",
    "    \n",
    "    ## The location in the array you want to see the value of the digit\n",
    "    if type(num) == int:\n",
    "        X_value = X[num]\n",
    "        y_value = y[num]\n",
    "        reshape_value = X_value.reshape(sqrt_value, sqrt_value)\n",
    "        plt.imshow(reshape_value)\n",
    "        plt.axis(\"off\")\n",
    "        \n",
    "    elif type(num) == list:    \n",
    "        for n in num:\n",
    "            X_value = X[n]\n",
    "            ## The location in the array of the actual value of the digit\n",
    "            y_value = y[n]\n",
    "            ## Change the flat array in to a square by getting the square root of the array (e.g. if the length of the array were 64, it would create a 6x6 square)    \n",
    "            reshape_value = X_value.reshape(sqrt_value, sqrt_value)\n",
    "            ## Print the value of the digit\n",
    "            print(\"Label (Digit Value): \", y_value)\n",
    "            ## plot the reshaped array\n",
    "            plt.figure()\n",
    "            plt.imshow(reshape_value)\n",
    "            plt.axis(\"off\")\n",
    "    else:\n",
    "        print(\"Please enter a single integer or a list of integers\")\n",
    "    \n",
    "digit_with_label(num=[1,2,3])"
   ]
  },
  {
   "cell_type": "markdown",
   "metadata": {},
   "source": [
    "### Training and Test Sets\n",
    "\n",
    "If you aren't familiar with the concept of test and training sets, please view my previous post [here](https://datadazed.com/2020/02/05/machine-learning-housing-example-project/#Building_the_Training_and_Testing_Sets_for_the_model) to get a better understanding. The MNIST has already split the data into test and training sets for us, so we won't have to worry about importing `sklearn` libraries to do the 'dirty work' for us."
   ]
  },
  {
   "cell_type": "code",
   "execution_count": 85,
   "metadata": {},
   "outputs": [
    {
     "name": "stdout",
     "output_type": "stream",
     "text": [
      "Label (Digit Value):  3\n"
     ]
    },
    {
     "data": {
      "image/png": "[encoded data removed]",
      "text/plain": [
       "<Figure size 432x288 with 1 Axes>"
      ]
     },
     "metadata": {},
     "output_type": "display_data"
    }
   ],
   "source": [
    "X_train, X_test, y_train, y_test = X[:60000], X[60000:], y[:60000], y[60000:]\n",
    "\n",
    "## Let us verif the data is accurate still and didn't get shuffled or jumbled by using the function we created earlier\n",
    "digit_with_label(num=10, X=X_train, y=y_train)"
   ]
  },
  {
   "cell_type": "code",
   "execution_count": null,
   "metadata": {},
   "outputs": [],
   "source": []
  },
  {
   "cell_type": "code",
   "execution_count": null,
   "metadata": {},
   "outputs": [],
   "source": []
  },
  {
   "cell_type": "code",
   "execution_count": null,
   "metadata": {},
   "outputs": [],
   "source": []
  }
 ],
 "metadata": {
  "kernelspec": {
   "display_name": "Python 3",
   "language": "python",
   "name": "python3"
  },
  "language_info": {
   "codemirror_mode": {
    "name": "ipython",
    "version": 3
   },
   "file_extension": ".py",
   "mimetype": "text/x-python",
   "name": "python",
   "nbconvert_exporter": "python",
   "pygments_lexer": "ipython3",
   "version": "3.7.4"
  },
  "latex_envs": {
   "LaTeX_envs_menu_present": true,
   "autoclose": false,
   "autocomplete": true,
   "bibliofile": "biblio.bib",
   "cite_by": "apalike",
   "current_citInitial": 1,
   "eqLabelWithNumbers": true,
   "eqNumInitial": 1,
   "hotkeys": {
    "equation": "Ctrl-E",
    "itemize": "Ctrl-I"
   },
   "labels_anchors": false,
   "latex_user_defs": false,
   "report_style_numbering": false,
   "user_envs_cfg": false
  }
 },
 "nbformat": 4,
 "nbformat_minor": 2
}
