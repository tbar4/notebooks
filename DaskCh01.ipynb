{
 "cells": [
  {
   "cell_type": "code",
   "execution_count": 17,
   "metadata": {},
   "outputs": [],
   "source": [
    "import boto3\n",
    "import s3fs\n",
    "import dask.dataframe as dd\n",
    "import pyarrow\n",
    "from dask.diagnostics import ProgressBar\n",
    "from matplotlib import pyplot as plt"
   ]
  },
  {
   "cell_type": "code",
   "execution_count": 21,
   "metadata": {},
   "outputs": [],
   "source": [
    "df = dd.read_parquet(\"s3://dask/2017_parking_violations/*.parquet\")"
   ]
  },
  {
   "cell_type": "code",
   "execution_count": 22,
   "metadata": {},
   "outputs": [
    {
     "name": "stdout",
     "output_type": "stream",
     "text": [
      "Number of Partitions: 16\n"
     ]
    }
   ],
   "source": [
    "print(\"Number of Partitions: \" + str(df.npartitions))"
   ]
  },
  {
   "cell_type": "code",
   "execution_count": 23,
   "metadata": {},
   "outputs": [
    {
     "data": {
      "text/plain": [
       "<bound method DaskMethodsMixin.compute of Dask Series Structure:\n",
       "npartitions=16\n",
       "    int64\n",
       "      ...\n",
       "    ...  \n",
       "      ...\n",
       "      ...\n",
       "dtype: int64\n",
       "Dask Name: len, 32 tasks>"
      ]
     },
     "execution_count": 23,
     "metadata": {},
     "output_type": "execute_result"
    }
   ],
   "source": [
    "df.map_partitions(len).compute"
   ]
  },
  {
   "cell_type": "code",
   "execution_count": 24,
   "metadata": {},
   "outputs": [
    {
     "data": {
      "text/plain": [
       "Dask Series Structure:\n",
       "npartitions=1\n",
       "Date_First_Observed    int64\n",
       "Violation_Time           ...\n",
       "dtype: int64\n",
       "Dask Name: dataframe-sum-agg, 49 tasks"
      ]
     },
     "execution_count": 24,
     "metadata": {},
     "output_type": "execute_result"
    }
   ],
   "source": [
    "missing_values = df.isnull().sum()\n",
    "missing_values"
   ]
  },
  {
   "cell_type": "code",
   "execution_count": 25,
   "metadata": {},
   "outputs": [
    {
     "data": {
      "text/plain": [
       "Dask Series Structure:\n",
       "npartitions=1\n",
       "Date_First_Observed    float64\n",
       "Violation_Time             ...\n",
       "dtype: float64\n",
       "Dask Name: mul, 84 tasks"
      ]
     },
     "execution_count": 25,
     "metadata": {},
     "output_type": "execute_result"
    }
   ],
   "source": [
    "missing_count = ((missing_values/df.index.size)*100)\n",
    "missing_count"
   ]
  },
  {
   "cell_type": "code",
   "execution_count": 26,
   "metadata": {},
   "outputs": [
    {
     "name": "stdout",
     "output_type": "stream",
     "text": [
      "[########################################] | 100% Completed | 41.1s\n"
     ]
    },
    {
     "data": {
      "text/plain": [
       "Summons_Number                         0.000000\n",
       "Plate_ID                               0.000009\n",
       "Registration_State                     0.000000\n",
       "Plate_Type                             0.000000\n",
       "Issue_Date                             0.000000\n",
       "Violation_Code                         0.000000\n",
       "Vehicle_Body_Type                      0.395213\n",
       "Vehicle_Make                           0.676172\n",
       "Issuing_Agency                         0.000000\n",
       "Street_Code1                           0.000000\n",
       "Street_Code2                           0.000000\n",
       "Street_Code3                           0.000000\n",
       "Vehicle_Expiration_Date                0.000000\n",
       "Violation_Location                    19.183510\n",
       "Violation_Precinct                     0.000000\n",
       "Issuer_Precinct                        0.000000\n",
       "Issuer_Code                            0.000000\n",
       "Issuer_Command                        19.093212\n",
       "Issuer_Squad                          19.101506\n",
       "Violation_Time                         0.000583\n",
       "Time_First_Observed                   92.217488\n",
       "Violation_County                       0.366073\n",
       "Violation_In_Front_Of_Or_Opposite     20.005826\n",
       "House_Number                          21.184968\n",
       "Street_Name                            0.037110\n",
       "Intersecting_Street                   68.827675\n",
       "Date_First_Observed                    0.000000\n",
       "Law_Section                            0.000000\n",
       "Sub_Division                           0.007155\n",
       "Violation_Legal_Code                  80.906214\n",
       "Days_Parking_In_Effect_               25.107923\n",
       "From_Hours_In_Effect                  50.457575\n",
       "To_Hours_In_Effect                    50.457548\n",
       "Vehicle_Color                          1.410086\n",
       "Unregistered_Vehicle?                 89.562223\n",
       "Vehicle_Year                           0.000000\n",
       "Meter_Number                          83.472476\n",
       "Feet_From_Curb                         0.000000\n",
       "Violation_Post_Code                   29.530489\n",
       "Violation_Description                 10.436611\n",
       "No_Standing_or_Stopping_Violation    100.000000\n",
       "Hydrant_Violation                    100.000000\n",
       "Double_Parking_Violation             100.000000\n",
       "dtype: float64"
      ]
     },
     "execution_count": 26,
     "metadata": {},
     "output_type": "execute_result"
    }
   ],
   "source": [
    "with ProgressBar():\n",
    "    missing_count_pct = missing_count.compute()\n",
    "    \n",
    "missing_count_pct"
   ]
  },
  {
   "cell_type": "code",
   "execution_count": null,
   "metadata": {},
   "outputs": [],
   "source": []
  }
 ],
 "metadata": {
  "kernelspec": {
   "display_name": "Python 3",
   "language": "python",
   "name": "python3"
  },
  "language_info": {
   "codemirror_mode": {
    "name": "ipython",
    "version": 3
   },
   "file_extension": ".py",
   "mimetype": "text/x-python",
   "name": "python",
   "nbconvert_exporter": "python",
   "pygments_lexer": "ipython3",
   "version": "3.7.4"
  }
 },
 "nbformat": 4,
 "nbformat_minor": 2
}
